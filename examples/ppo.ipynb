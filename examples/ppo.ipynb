{
 "cells": [
  {
   "cell_type": "code",
   "execution_count": 2,
   "metadata": {},
   "outputs": [],
   "source": [
    "import os\n",
    "\n",
    "import gymnasium as gym\n",
    "import matplotlib.pyplot as plt\n",
    "\n",
    "from stable_baselines3 import PPO\n",
    "from stable_baselines3.common import results_plotter\n",
    "from stable_baselines3.common.monitor import Monitor\n",
    "from stable_baselines3.common.atari_wrappers import AtariWrapper\n",
    "from stable_baselines3.common.results_plotter import plot_results\n",
    "from stable_baselines3.common.evaluation import evaluate_policy\n",
    "\n",
    "from spaceinvadersrl.video import ModelVideoRecorder\n",
    "from spaceinvadersrl.cnn_lstm_policy import CnnLstmPolicy\n",
    "from spaceinvadersrl.checkpoint import SaveOnBestTrainingRewardCallback"
   ]
  },
  {
   "cell_type": "code",
   "execution_count": 2,
   "metadata": {},
   "outputs": [],
   "source": [
    "log_dir = \"../assets/models/ppo/\"\n",
    "os.makedirs(log_dir, exist_ok=True)"
   ]
  },
  {
   "cell_type": "code",
   "execution_count": 4,
   "metadata": {},
   "outputs": [
    {
     "name": "stderr",
     "output_type": "stream",
     "text": [
      "A.L.E: Arcade Learning Environment (version 0.8.1+53f58b7)\n",
      "[Powered by Stella]\n"
     ]
    }
   ],
   "source": [
    "env_id = 'SpaceInvadersNoFrameskip-v4'\n",
    "env = gym.make(env_id, render_mode=\"rgb_array\")\n",
    "env = AtariWrapper(env)\n",
    "env = Monitor(env, log_dir)"
   ]
  },
  {
   "cell_type": "code",
   "execution_count": 4,
   "metadata": {},
   "outputs": [],
   "source": [
    "ppo_model = PPO(\n",
    "    CnnLstmPolicy,\n",
    "    env,\n",
    "    learning_rate=3e-4,\n",
    "    batch_size=64,\n",
    "    n_steps=512,\n",
    "    gamma=0.99,\n",
    "    gae_lambda=0.95,\n",
    "    clip_range=0.1,\n",
    "    ent_coef=0.0,\n",
    "    vf_coef=0.5,\n",
    "    max_grad_norm=0.5,\n",
    "    policy_kwargs=dict(net_arch=[512]),\n",
    "    verbose=0\n",
    ")"
   ]
  },
  {
   "cell_type": "code",
   "execution_count": 5,
   "metadata": {},
   "outputs": [],
   "source": [
    "callback = SaveOnBestTrainingRewardCallback(check_freq=10000, log_dir=log_dir, verbose=0)"
   ]
  },
  {
   "cell_type": "code",
   "execution_count": 6,
   "metadata": {},
   "outputs": [
    {
     "data": {
      "application/vnd.jupyter.widget-view+json": {
       "model_id": "ae7ebaa84c1344f580744158ed86fef3",
       "version_major": 2,
       "version_minor": 0
      },
      "text/plain": [
       "Output()"
      ]
     },
     "metadata": {},
     "output_type": "display_data"
    }
   ],
   "source": [
    "timesteps = 1e6\n",
    "ppo_model.learn(total_timesteps=int(timesteps), callback=callback, progress_bar=True)"
   ]
  },
  {
   "cell_type": "code",
   "execution_count": null,
   "metadata": {},
   "outputs": [
    {
     "data": {
      "image/png": "[encoded data removed]",
      "text/plain": [
       "<Figure size 800x200 with 1 Axes>"
      ]
     },
     "metadata": {},
     "output_type": "display_data"
    }
   ],
   "source": [
    "plot_results([log_dir], timesteps, results_plotter.X_TIMESTEPS, \"PPO LstmCnn Policy\")\n",
    "plt.show()"
   ]
  },
  {
   "cell_type": "code",
   "execution_count": 10,
   "metadata": {},
   "outputs": [
    {
     "name": "stdout",
     "output_type": "stream",
     "text": [
      "Mean Reward: 4.95\n",
      "Reward Standard Deviation: 3.4128433893163046\n"
     ]
    }
   ],
   "source": [
    "from stable_baselines3 import PPO\n",
    "\n",
    "best_model = PPO.load(f\"{log_dir}/best_model.zip\", env)\n",
    "\n",
    "#mean_reward, std_reward = evaluate_policy(ppo_model, ppo_model.get_env(), n_eval_episodes=25)\n",
    "mean_reward, std_reward = evaluate_policy(best_model, best_model.get_env(), n_eval_episodes=20)\n",
    "print(f\"Mean Reward: {mean_reward}\\nReward Standard Deviation: {std_reward}\")"
   ]
  },
  {
   "cell_type": "code",
   "execution_count": 11,
   "metadata": {},
   "outputs": [],
   "source": [
    "#recorder = ModelVideoRecorder(ppo_model, video_folder=\"../assets/gifs/\", video_length=4000, env_id=env_id, model_type=\"PPO\")\n",
    "recorder = ModelVideoRecorder(best_model, video_folder=\"../assets/gifs/\", video_length=3000, env_id=env_id, model_type=\"PPO\")"
   ]
  },
  {
   "cell_type": "code",
   "execution_count": 12,
   "metadata": {},
   "outputs": [],
   "source": [
    "recorder.record_gif()"
   ]
  }
 ],
 "metadata": {
  "kernelspec": {
   "display_name": "spaceinvadersrl--J_sImM3-py3.10",
   "language": "python",
   "name": "python3"
  },
  "language_info": {
   "codemirror_mode": {
    "name": "ipython",
    "version": 3
   },
   "file_extension": ".py",
   "mimetype": "text/x-python",
   "name": "python",
   "nbconvert_exporter": "python",
   "pygments_lexer": "ipython3",
   "version": "3.10.12"
  }
 },
 "nbformat": 4,
 "nbformat_minor": 2
}
