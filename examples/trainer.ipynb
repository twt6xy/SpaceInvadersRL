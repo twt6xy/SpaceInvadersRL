{
 "cells": [
  {
   "cell_type": "code",
   "execution_count": 1,
   "metadata": {},
   "outputs": [],
   "source": [
    "from spaceinvadersrl.train import ModelTrainer"
   ]
  },
  {
   "cell_type": "markdown",
   "metadata": {},
   "source": [
    "## Proximal Policy Optimization (PPO) Model"
   ]
  },
  {
   "cell_type": "markdown",
   "metadata": {},
   "source": [
    "### CNN Policy"
   ]
  },
  {
   "cell_type": "code",
   "execution_count": 2,
   "metadata": {},
   "outputs": [
    {
     "name": "stderr",
     "output_type": "stream",
     "text": [
      "A.L.E: Arcade Learning Environment (version 0.8.1+53f58b7)\n",
      "[Powered by Stella]\n"
     ]
    },
    {
     "data": {
      "application/vnd.jupyter.widget-view+json": {
       "model_id": "f6d81ecce2c840ea835311274bf9c1ae",
       "version_major": 2,
       "version_minor": 0
      },
      "text/plain": [
       "Output()"
      ]
     },
     "metadata": {},
     "output_type": "display_data"
    }
   ],
   "source": [
    "ppo_cnn_trainer = ModelTrainer(\n",
    "    model_type='PPO',\n",
    "    policy_name='CnnPolicy',\n",
    "    env_id='SpaceInvadersNoFrameskip-v4',\n",
    "    log_dir=\"../assets/models/ppo_cnn\",\n",
    "    video_dir=\"../assets/gifs/\",\n",
    "    video_length=1800,\n",
    "    timesteps=1e6,\n",
    "    check_freq=10000,\n",
    "    learning_rate=3e-4,\n",
    "    batch_size=32,\n",
    "    n_steps=512,\n",
    "    gamma=0.99,\n",
    "    gae_lambda=0.95,\n",
    "    clip_range=0.1,\n",
    "    ent_coef=0.0,\n",
    "    vf_coef=0.5,\n",
    "    max_grad_norm=0.5,\n",
    "    policy_kwargs=dict(net_arch=[512])\n",
    ")\n",
    "ppo_cnn_trainer.train()\n",
    "ppo_cnn_trainer.evaluate()\n",
    "ppo_cnn_trainer.record()\n",
    "ppo_cnn_trainer.plot_results()"
   ]
  },
  {
   "cell_type": "markdown",
   "metadata": {},
   "source": [
    "### MLP"
   ]
  },
  {
   "cell_type": "code",
   "execution_count": null,
   "metadata": {},
   "outputs": [
    {
     "data": {
      "application/vnd.jupyter.widget-view+json": {
       "model_id": "834e5a08ada64e5c9946073bdf645891",
       "version_major": 2,
       "version_minor": 0
      },
      "text/plain": [
       "Output()"
      ]
     },
     "metadata": {},
     "output_type": "display_data"
    },
    {
     "data": {
      "text/html": [
       "<pre style=\"white-space:pre;overflow-x:auto;line-height:normal;font-family:Menlo,'DejaVu Sans Mono',consolas,'Courier New',monospace\"></pre>\n"
      ],
      "text/plain": []
     },
     "metadata": {},
     "output_type": "display_data"
    },
    {
     "data": {
      "text/html": [
       "<pre style=\"white-space:pre;overflow-x:auto;line-height:normal;font-family:Menlo,'DejaVu Sans Mono',consolas,'Courier New',monospace\">\n",
       "</pre>\n"
      ],
      "text/plain": [
       "\n"
      ]
     },
     "metadata": {},
     "output_type": "display_data"
    },
    {
     "name": "stdout",
     "output_type": "stream",
     "text": [
      "Mean Reward: 2.35\n",
      "Reward Standard Deviation: 2.2197972880423116\n"
     ]
    },
    {
     "data": {
      "image/png": "[encoded data removed]",
      "text/plain": [
       "<Figure size 800x200 with 1 Axes>"
      ]
     },
     "metadata": {},
     "output_type": "display_data"
    }
   ],
   "source": [
    "ppo_mlp_trainer = ModelTrainer(\n",
    "    model_type='PPO',\n",
    "    policy_name='MlpPolicy',\n",
    "    env_id='SpaceInvadersNoFrameskip-v4',\n",
    "    log_dir=\"../assets/models/ppo_mlp\",\n",
    "    video_dir=\"../assets/gifs/\",\n",
    "    video_length=1800,\n",
    "    timesteps=1e6,\n",
    "    check_freq=10000,\n",
    "    learning_rate=3e-4,\n",
    "    batch_size=32,\n",
    "    n_steps=512,\n",
    "    gamma=0.99,\n",
    "    gae_lambda=0.95,\n",
    "    clip_range=0.1,\n",
    "    ent_coef=0.0,\n",
    "    vf_coef=0.5,\n",
    "    max_grad_norm=0.5,\n",
    "    policy_kwargs=dict(net_arch=[512])\n",
    ")\n",
    "ppo_mlp_trainer.train()\n",
    "ppo_mlp_trainer.evaluate()\n",
    "ppo_mlp_trainer.record()\n",
    "ppo_mlp_trainer.plot_results()"
   ]
  },
  {
   "cell_type": "markdown",
   "metadata": {},
   "source": [
    "### Cnn + Lstm"
   ]
  },
  {
   "cell_type": "code",
   "execution_count": null,
   "metadata": {},
   "outputs": [
    {
     "data": {
      "application/vnd.jupyter.widget-view+json": {
       "model_id": "84b03e7d54c845799873031fabfd045c",
       "version_major": 2,
       "version_minor": 0
      },
      "text/plain": [
       "Output()"
      ]
     },
     "metadata": {},
     "output_type": "display_data"
    },
    {
     "data": {
      "text/html": [
       "<pre style=\"white-space:pre;overflow-x:auto;line-height:normal;font-family:Menlo,'DejaVu Sans Mono',consolas,'Courier New',monospace\"></pre>\n"
      ],
      "text/plain": []
     },
     "metadata": {},
     "output_type": "display_data"
    },
    {
     "data": {
      "text/html": [
       "<pre style=\"white-space:pre;overflow-x:auto;line-height:normal;font-family:Menlo,'DejaVu Sans Mono',consolas,'Courier New',monospace\">\n",
       "</pre>\n"
      ],
      "text/plain": [
       "\n"
      ]
     },
     "metadata": {},
     "output_type": "display_data"
    },
    {
     "name": "stdout",
     "output_type": "stream",
     "text": [
      "Mean Reward: 3.15\n",
      "Reward Standard Deviation: 2.0316249653910043\n"
     ]
    },
    {
     "data": {
      "image/png": "[encoded data removed]",
      "text/plain": [
       "<Figure size 800x200 with 1 Axes>"
      ]
     },
     "metadata": {},
     "output_type": "display_data"
    }
   ],
   "source": [
    "ppo_cnnlstm_trainer = ModelTrainer(\n",
    "    model_type='PPO',\n",
    "    policy_name='CnnLstm',\n",
    "    env_id='SpaceInvadersNoFrameskip-v4',\n",
    "    log_dir=\"../assets/models/ppo_cnn_lstm\",\n",
    "    video_dir=\"../assets/gifs/\",\n",
    "    video_length=1800,\n",
    "    timesteps=1e6,\n",
    "    check_freq=10000,\n",
    "    learning_rate=3e-4,\n",
    "    batch_size=64,\n",
    "    n_steps=512,\n",
    "    gamma=0.99,\n",
    "    gae_lambda=0.95,\n",
    "    clip_range=0.1,\n",
    "    ent_coef=0.0,\n",
    "    vf_coef=0.5,\n",
    "    max_grad_norm=0.5,\n",
    "    policy_kwargs=dict(net_arch=[512])\n",
    ")\n",
    "ppo_cnnlstm_trainer.train()\n",
    "ppo_cnnlstm_trainer.evaluate()\n",
    "ppo_cnnlstm_trainer.record()\n",
    "ppo_cnnlstm_trainer.plot_results()"
   ]
  },
  {
   "cell_type": "markdown",
   "metadata": {},
   "source": [
    "## Deep Q-Network (DQN) Model"
   ]
  },
  {
   "cell_type": "markdown",
   "metadata": {},
   "source": [
    "### CNN"
   ]
  },
  {
   "cell_type": "code",
   "execution_count": null,
   "metadata": {},
   "outputs": [
    {
     "data": {
      "application/vnd.jupyter.widget-view+json": {
       "model_id": "b3b495c394d345d99e4ded3dbc45e82d",
       "version_major": 2,
       "version_minor": 0
      },
      "text/plain": [
       "Output()"
      ]
     },
     "metadata": {},
     "output_type": "display_data"
    },
    {
     "data": {
      "text/html": [
       "<pre style=\"white-space:pre;overflow-x:auto;line-height:normal;font-family:Menlo,'DejaVu Sans Mono',consolas,'Courier New',monospace\"></pre>\n"
      ],
      "text/plain": []
     },
     "metadata": {},
     "output_type": "display_data"
    },
    {
     "data": {
      "text/html": [
       "<pre style=\"white-space:pre;overflow-x:auto;line-height:normal;font-family:Menlo,'DejaVu Sans Mono',consolas,'Courier New',monospace\">\n",
       "</pre>\n"
      ],
      "text/plain": [
       "\n"
      ]
     },
     "metadata": {},
     "output_type": "display_data"
    },
    {
     "name": "stdout",
     "output_type": "stream",
     "text": [
      "Mean Reward: 0.0\n",
      "Reward Standard Deviation: 0.0\n"
     ]
    },
    {
     "data": {
      "image/png": "[encoded data removed]",
      "text/plain": [
       "<Figure size 800x200 with 1 Axes>"
      ]
     },
     "metadata": {},
     "output_type": "display_data"
    }
   ],
   "source": [
    "dqn_cnn_trainer = ModelTrainer(\n",
    "    model_type='DQN',\n",
    "    policy_name='CnnPolicy',\n",
    "    env_id='SpaceInvadersNoFrameskip-v4',\n",
    "    log_dir=\"../assets/models/dqn_cnn\",\n",
    "    video_dir=\"../assets/gifs/\",\n",
    "    video_length=1800,\n",
    "    timesteps=1e6,\n",
    "    check_freq=10000,\n",
    "    buffer_size=10000,\n",
    "    batch_size=32,\n",
    "    exploration_final_eps=0.01,\n",
    "    exploration_fraction=0.1,\n",
    "    gradient_steps=1,\n",
    "    learning_rate=0.0001,\n",
    "    learning_starts=100000,\n",
    "    target_update_interval=1000,\n",
    "    train_freq=4,\n",
    ")\n",
    "dqn_cnn_trainer.train()\n",
    "dqn_cnn_trainer.evaluate()\n",
    "dqn_cnn_trainer.record()\n",
    "dqn_cnn_trainer.plot_results()"
   ]
  },
  {
   "cell_type": "markdown",
   "metadata": {},
   "source": [
    "### MLP"
   ]
  },
  {
   "cell_type": "code",
   "execution_count": null,
   "metadata": {},
   "outputs": [
    {
     "data": {
      "application/vnd.jupyter.widget-view+json": {
       "model_id": "ddac227fa23144558ae27377dae51948",
       "version_major": 2,
       "version_minor": 0
      },
      "text/plain": [
       "Output()"
      ]
     },
     "metadata": {},
     "output_type": "display_data"
    },
    {
     "data": {
      "text/html": [
       "<pre style=\"white-space:pre;overflow-x:auto;line-height:normal;font-family:Menlo,'DejaVu Sans Mono',consolas,'Courier New',monospace\"></pre>\n"
      ],
      "text/plain": []
     },
     "metadata": {},
     "output_type": "display_data"
    },
    {
     "data": {
      "text/html": [
       "<pre style=\"white-space:pre;overflow-x:auto;line-height:normal;font-family:Menlo,'DejaVu Sans Mono',consolas,'Courier New',monospace\">\n",
       "</pre>\n"
      ],
      "text/plain": [
       "\n"
      ]
     },
     "metadata": {},
     "output_type": "display_data"
    },
    {
     "name": "stdout",
     "output_type": "stream",
     "text": [
      "Mean Reward: 0.05\n",
      "Reward Standard Deviation: 0.21794494717703364\n"
     ]
    },
    {
     "data": {
      "image/png": "[encoded data removed]",
      "text/plain": [
       "<Figure size 800x200 with 1 Axes>"
      ]
     },
     "metadata": {},
     "output_type": "display_data"
    }
   ],
   "source": [
    "dqn_mlp_trainer = ModelTrainer(\n",
    "    model_type='DQN',\n",
    "    policy_name='MlpPolicy',\n",
    "    env_id='SpaceInvadersNoFrameskip-v4',\n",
    "    log_dir=\"../assets/models/dqn_mlp\",\n",
    "    video_dir=\"../assets/gifs/trainer/\",\n",
    "    video_length=1800,\n",
    "    timesteps=1e6,\n",
    "    check_freq=10000,\n",
    "    buffer_size=10000,\n",
    "    batch_size=32,\n",
    "    exploration_final_eps=0.01,\n",
    "    exploration_fraction=0.1,\n",
    "    gradient_steps=1,\n",
    "    learning_rate=0.0001,\n",
    "    learning_starts=100000,\n",
    "    target_update_interval=1000,\n",
    "    train_freq=4,\n",
    ")\n",
    "dqn_mlp_trainer.train()\n",
    "dqn_mlp_trainer.evaluate()\n",
    "dqn_mlp_trainer.record()\n",
    "dqn_mlp_trainer.plot_results()"
   ]
  }
 ],
 "metadata": {
  "kernelspec": {
   "display_name": "spaceinvadersrl--J_sImM3-py3.10",
   "language": "python",
   "name": "python3"
  },
  "language_info": {
   "codemirror_mode": {
    "name": "ipython",
    "version": 3
   },
   "file_extension": ".py",
   "mimetype": "text/x-python",
   "name": "python",
   "nbconvert_exporter": "python",
   "pygments_lexer": "ipython3",
   "version": "3.10.12"
  }
 },
 "nbformat": 4,
 "nbformat_minor": 2
}
