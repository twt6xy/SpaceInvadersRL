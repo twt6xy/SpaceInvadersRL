{
 "cells": [
  {
   "cell_type": "code",
   "execution_count": 1,
   "metadata": {},
   "outputs": [],
   "source": [
    "import os\n",
    "\n",
    "import gymnasium as gym\n",
    "import matplotlib.pyplot as plt\n",
    "\n",
    "from stable_baselines3 import DQN\n",
    "from stable_baselines3.common import results_plotter\n",
    "from stable_baselines3.common.monitor import Monitor\n",
    "from stable_baselines3.common.atari_wrappers import EpisodicLifeEnv\n",
    "from stable_baselines3.common.results_plotter import plot_results\n",
    "from stable_baselines3.common.evaluation import evaluate_policy\n",
    "\n",
    "from spaceinvadersrl.video import ModelVideoRecorder\n",
    "from spaceinvadersrl.checkpoint import SaveOnBestTrainingRewardCallback"
   ]
  },
  {
   "cell_type": "code",
   "execution_count": 2,
   "metadata": {},
   "outputs": [],
   "source": [
    "log_dir = \"../assets/models/dqn/\"\n",
    "os.makedirs(log_dir, exist_ok=True)"
   ]
  },
  {
   "cell_type": "code",
   "execution_count": 3,
   "metadata": {},
   "outputs": [
    {
     "name": "stderr",
     "output_type": "stream",
     "text": [
      "A.L.E: Arcade Learning Environment (version 0.8.1+53f58b7)\n",
      "[Powered by Stella]\n"
     ]
    }
   ],
   "source": [
    "env_id = 'SpaceInvaders-v4'\n",
    "env = gym.make(env_id, render_mode=\"rgb_array\")\n",
    "env = EpisodicLifeEnv(env)\n",
    "env = Monitor(env, log_dir)"
   ]
  },
  {
   "cell_type": "code",
   "execution_count": 4,
   "metadata": {},
   "outputs": [],
   "source": [
    "dqn_model = DQN(\n",
    "    'CnnPolicy', \n",
    "    env, \n",
    "    buffer_size=1000,\n",
    "    batch_size=32,\n",
    "    exploration_final_eps=0.01,\n",
    "    exploration_fraction=0.1,\n",
    "    gradient_steps=1,\n",
    "    learning_rate=0.0001,\n",
    "    learning_starts=10000,\n",
    "    target_update_interval=100,\n",
    "    train_freq=4,\n",
    "    verbose=0\n",
    ")"
   ]
  },
  {
   "cell_type": "code",
   "execution_count": 5,
   "metadata": {},
   "outputs": [],
   "source": [
    "callback = SaveOnBestTrainingRewardCallback(check_freq=10000, log_dir=log_dir, verbose=0)"
   ]
  },
  {
   "cell_type": "code",
   "execution_count": 6,
   "metadata": {},
   "outputs": [
    {
     "data": {
      "application/vnd.jupyter.widget-view+json": {
       "model_id": "deae0e31b18a49b19a583a780bb7f250",
       "version_major": 2,
       "version_minor": 0
      },
      "text/plain": [
       "Output()"
      ]
     },
     "metadata": {},
     "output_type": "display_data"
    },
    {
     "data": {
      "text/html": [
       "<pre style=\"white-space:pre;overflow-x:auto;line-height:normal;font-family:Menlo,'DejaVu Sans Mono',consolas,'Courier New',monospace\"></pre>\n"
      ],
      "text/plain": []
     },
     "metadata": {},
     "output_type": "display_data"
    },
    {
     "data": {
      "text/html": [
       "<pre style=\"white-space:pre;overflow-x:auto;line-height:normal;font-family:Menlo,'DejaVu Sans Mono',consolas,'Courier New',monospace\">\n",
       "</pre>\n"
      ],
      "text/plain": [
       "\n"
      ]
     },
     "metadata": {},
     "output_type": "display_data"
    },
    {
     "data": {
      "text/plain": [
       "<stable_baselines3.dqn.dqn.DQN at 0x7b02b17d2290>"
      ]
     },
     "execution_count": 6,
     "metadata": {},
     "output_type": "execute_result"
    }
   ],
   "source": [
    "timesteps = 2e4\n",
    "dqn_model.learn(total_timesteps=int(timesteps), callback=callback, progress_bar=True)"
   ]
  },
  {
   "cell_type": "code",
   "execution_count": 7,
   "metadata": {},
   "outputs": [
    {
     "data": {
      "image/png": "[encoded data removed]",
      "text/plain": [
       "<Figure size 800x200 with 1 Axes>"
      ]
     },
     "metadata": {},
     "output_type": "display_data"
    }
   ],
   "source": [
    "plot_results([log_dir], timesteps, results_plotter.X_TIMESTEPS, \"DQN SpaceInvaders\")\n",
    "plt.show()"
   ]
  },
  {
   "cell_type": "code",
   "execution_count": 8,
   "metadata": {},
   "outputs": [
    {
     "name": "stdout",
     "output_type": "stream",
     "text": [
      "Mean Reward: 97.0\n",
      "Reward Standard Deviation: 45.56314299957807\n"
     ]
    }
   ],
   "source": [
    "mean_reward, std_reward = evaluate_policy(dqn_model, dqn_model.get_env(), n_eval_episodes=10)\n",
    "print(f\"Mean Reward: {mean_reward}\\nReward Standard Deviation: {std_reward}\")"
   ]
  },
  {
   "cell_type": "code",
   "execution_count": 11,
   "metadata": {},
   "outputs": [],
   "source": [
    "recorder = ModelVideoRecorder(dqn_model, video_folder=log_dir, video_length=1000, env_id=env_id, model_type=\"DQN\")"
   ]
  },
  {
   "cell_type": "code",
   "execution_count": 12,
   "metadata": {},
   "outputs": [
    {
     "name": "stderr",
     "output_type": "stream",
     "text": [
      "/home/timboslice/.cache/pypoetry/virtualenvs/spaceinvadersrl--J_sImM3-py3.10/lib/python3.10/site-packages/gymnasium/utils/passive_env_checker.py:335: UserWarning: \u001b[33mWARN: No render fps was declared in the environment (env.metadata['render_fps'] is None or not defined), rendering may occur at inconsistent fps.\u001b[0m\n",
      "  logger.warn(\n"
     ]
    },
    {
     "name": "stdout",
     "output_type": "stream",
     "text": [
      "Saving video to /home/timboslice/UVA/spring24/SpaceInvadersRL/assets/models/dqn/DQN-SpaceInvaders-v4-step-0-to-step-1000.mp4\n",
      "Moviepy - Building video /home/timboslice/UVA/spring24/SpaceInvadersRL/assets/models/dqn/DQN-SpaceInvaders-v4-step-0-to-step-1000.mp4.\n",
      "Moviepy - Writing video /home/timboslice/UVA/spring24/SpaceInvadersRL/assets/models/dqn/DQN-SpaceInvaders-v4-step-0-to-step-1000.mp4\n",
      "\n"
     ]
    },
    {
     "name": "stderr",
     "output_type": "stream",
     "text": [
      "                                                                 "
     ]
    },
    {
     "name": "stdout",
     "output_type": "stream",
     "text": [
      "Moviepy - Done !\n",
      "Moviepy - video ready /home/timboslice/UVA/spring24/SpaceInvadersRL/assets/models/dqn/DQN-SpaceInvaders-v4-step-0-to-step-1000.mp4\n"
     ]
    },
    {
     "name": "stderr",
     "output_type": "stream",
     "text": [
      "\r"
     ]
    }
   ],
   "source": [
    "recorder.record_video()"
   ]
  }
 ],
 "metadata": {
  "kernelspec": {
   "display_name": "spaceinvadersrl--J_sImM3-py3.10",
   "language": "python",
   "name": "python3"
  },
  "language_info": {
   "codemirror_mode": {
    "name": "ipython",
    "version": 3
   },
   "file_extension": ".py",
   "mimetype": "text/x-python",
   "name": "python",
   "nbconvert_exporter": "python",
   "pygments_lexer": "ipython3",
   "version": "3.10.12"
  }
 },
 "nbformat": 4,
 "nbformat_minor": 2
}
